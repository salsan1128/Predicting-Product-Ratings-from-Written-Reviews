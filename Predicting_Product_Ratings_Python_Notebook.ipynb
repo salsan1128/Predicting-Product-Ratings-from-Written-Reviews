{
  "cells": [
    {
      "cell_type": "markdown",
      "metadata": {
        "id": "view-in-github",
        "colab_type": "text"
      },
      "source": [
        "<a href=\"https://colab.research.google.com/github/salsan1128/Predicting-Product-Ratings-from-Written-Reviews/blob/main/Predicting_Product_Ratings_Python_Notebook.ipynb\" target=\"_parent\"><img src=\"https://colab.research.google.com/assets/colab-badge.svg\" alt=\"Open In Colab\"/></a>"
      ]
    },
    {
      "cell_type": "code",
      "execution_count": null,
      "metadata": {
        "cell_id": "00001-3fd30cc9-bf82-4372-86c3-b3cfa94a2cff",
        "deepnote_app_coordinates": {
          "h": 5,
          "w": 12,
          "x": 0,
          "y": null
        },
        "deepnote_cell_height": 811,
        "deepnote_cell_type": "code",
        "deepnote_output_heights": [
          null,
          21.1875
        ],
        "deepnote_to_be_reexecuted": false,
        "execution_millis": 6826,
        "execution_start": 1647319654946,
        "source_hash": "3ace84d4",
        "tags": [],
        "colab": {
          "base_uri": "https://localhost:8080/",
          "height": 922
        },
        "id": "6Tvcj5U77f74",
        "outputId": "b0d08d6d-95bd-47e8-a55f-9e39700b7e6a"
      },
      "outputs": [
        {
          "output_type": "stream",
          "name": "stdout",
          "text": [
            "Collecting wordcloud==1.8.1\n",
            "  Downloading wordcloud-1.8.1.tar.gz (220 kB)\n",
            "\u001b[2K     \u001b[90m━━━━━━━━━━━━━━━━━━━━━━━━━━━━━━━━━━━━━━━━\u001b[0m \u001b[32m220.7/220.7 kB\u001b[0m \u001b[31m3.3 MB/s\u001b[0m eta \u001b[36m0:00:00\u001b[0m\n",
            "\u001b[?25h  Preparing metadata (setup.py) ... \u001b[?25l\u001b[?25hdone\n",
            "Requirement already satisfied: numpy>=1.6.1 in /usr/local/lib/python3.10/dist-packages (from wordcloud==1.8.1) (1.23.5)\n",
            "Requirement already satisfied: pillow in /usr/local/lib/python3.10/dist-packages (from wordcloud==1.8.1) (9.4.0)\n",
            "Requirement already satisfied: matplotlib in /usr/local/lib/python3.10/dist-packages (from wordcloud==1.8.1) (3.7.1)\n",
            "Requirement already satisfied: contourpy>=1.0.1 in /usr/local/lib/python3.10/dist-packages (from matplotlib->wordcloud==1.8.1) (1.2.0)\n",
            "Requirement already satisfied: cycler>=0.10 in /usr/local/lib/python3.10/dist-packages (from matplotlib->wordcloud==1.8.1) (0.12.1)\n",
            "Requirement already satisfied: fonttools>=4.22.0 in /usr/local/lib/python3.10/dist-packages (from matplotlib->wordcloud==1.8.1) (4.46.0)\n",
            "Requirement already satisfied: kiwisolver>=1.0.1 in /usr/local/lib/python3.10/dist-packages (from matplotlib->wordcloud==1.8.1) (1.4.5)\n",
            "Requirement already satisfied: packaging>=20.0 in /usr/local/lib/python3.10/dist-packages (from matplotlib->wordcloud==1.8.1) (23.2)\n",
            "Requirement already satisfied: pyparsing>=2.3.1 in /usr/local/lib/python3.10/dist-packages (from matplotlib->wordcloud==1.8.1) (3.1.1)\n",
            "Requirement already satisfied: python-dateutil>=2.7 in /usr/local/lib/python3.10/dist-packages (from matplotlib->wordcloud==1.8.1) (2.8.2)\n",
            "Requirement already satisfied: six>=1.5 in /usr/local/lib/python3.10/dist-packages (from python-dateutil>=2.7->matplotlib->wordcloud==1.8.1) (1.16.0)\n",
            "Building wheels for collected packages: wordcloud\n",
            "  Building wheel for wordcloud (setup.py) ... \u001b[?25l\u001b[?25hdone\n",
            "  Created wheel for wordcloud: filename=wordcloud-1.8.1-cp310-cp310-linux_x86_64.whl size=402046 sha256=24d4d5f9f8679a209fa543b6862b87997ef06fadbf1662707b3c7572a3d6ca05\n",
            "  Stored in directory: /root/.cache/pip/wheels/6b/b1/75/024072f28a2b9d6c4f80b35ebfd6ced7fd9fc58e9f1b933b9f\n",
            "Successfully built wordcloud\n",
            "Installing collected packages: wordcloud\n",
            "  Attempting uninstall: wordcloud\n",
            "    Found existing installation: wordcloud 1.9.3\n",
            "    Uninstalling wordcloud-1.9.3:\n",
            "      Successfully uninstalled wordcloud-1.9.3\n",
            "\u001b[31mERROR: pip's dependency resolver does not currently take into account all the packages that are installed. This behaviour is the source of the following dependency conflicts.\n",
            "lida 0.0.10 requires fastapi, which is not installed.\n",
            "lida 0.0.10 requires kaleido, which is not installed.\n",
            "lida 0.0.10 requires python-multipart, which is not installed.\n",
            "lida 0.0.10 requires uvicorn, which is not installed.\u001b[0m\u001b[31m\n",
            "\u001b[0mSuccessfully installed wordcloud-1.8.1\n"
          ]
        },
        {
          "output_type": "error",
          "ename": "ImportError",
          "evalue": "ignored",
          "traceback": [
            "\u001b[0;31m---------------------------------------------------------------------------\u001b[0m",
            "\u001b[0;31mImportError\u001b[0m                               Traceback (most recent call last)",
            "\u001b[0;32m<ipython-input-1-18e97d593738>\u001b[0m in \u001b[0;36m<cell line: 11>\u001b[0;34m()\u001b[0m\n\u001b[1;32m      9\u001b[0m \u001b[0;32mimport\u001b[0m \u001b[0mjson\u001b[0m\u001b[0;34m\u001b[0m\u001b[0;34m\u001b[0m\u001b[0m\n\u001b[1;32m     10\u001b[0m \u001b[0;34m\u001b[0m\u001b[0m\n\u001b[0;32m---> 11\u001b[0;31m \u001b[0;32mfrom\u001b[0m \u001b[0msklearn\u001b[0m\u001b[0;34m.\u001b[0m\u001b[0mmetrics\u001b[0m \u001b[0;32mimport\u001b[0m \u001b[0mconfusion_matrix\u001b[0m\u001b[0;34m,\u001b[0m \u001b[0mplot_confusion_matrix\u001b[0m\u001b[0;34m\u001b[0m\u001b[0;34m\u001b[0m\u001b[0m\n\u001b[0m\u001b[1;32m     12\u001b[0m \u001b[0;32mfrom\u001b[0m \u001b[0msklearn\u001b[0m\u001b[0;34m.\u001b[0m\u001b[0mmetrics\u001b[0m \u001b[0;32mimport\u001b[0m \u001b[0mclassification_report\u001b[0m\u001b[0;34m\u001b[0m\u001b[0;34m\u001b[0m\u001b[0m\n\u001b[1;32m     13\u001b[0m \u001b[0;32mfrom\u001b[0m \u001b[0msklearn\u001b[0m\u001b[0;34m.\u001b[0m\u001b[0mneighbors\u001b[0m \u001b[0;32mimport\u001b[0m \u001b[0mKNeighborsClassifier\u001b[0m\u001b[0;34m\u001b[0m\u001b[0;34m\u001b[0m\u001b[0m\n",
            "\u001b[0;31mImportError\u001b[0m: cannot import name 'plot_confusion_matrix' from 'sklearn.metrics' (/usr/local/lib/python3.10/dist-packages/sklearn/metrics/__init__.py)",
            "",
            "\u001b[0;31m---------------------------------------------------------------------------\u001b[0;32m\nNOTE: If your import is failing due to a missing package, you can\nmanually install dependencies using either !pip or !apt.\n\nTo view examples of installing some common dependencies, click the\n\"Open Examples\" button below.\n\u001b[0;31m---------------------------------------------------------------------------\u001b[0m\n"
          ],
          "errorDetails": {
            "actions": [
              {
                "action": "open_url",
                "actionText": "Open Examples",
                "url": "/notebooks/snippets/importing_libraries.ipynb"
              }
            ]
          }
        }
      ],
      "source": [
        "!pip install wordcloud==1.8.1\n",
        "\n",
        "import pandas as pd\n",
        "import gzip\n",
        "import re\n",
        "import nltk\n",
        "import matplotlib.pyplot as plt\n",
        "import seaborn as sns\n",
        "import json\n",
        "\n",
        "from sklearn.metrics import confusion_matrix, plot_confusion_matrix\n",
        "from sklearn.metrics import classification_report\n",
        "from sklearn.neighbors import KNeighborsClassifier\n",
        "from sklearn.model_selection import cross_val_score\n",
        "from sklearn.model_selection import train_test_split\n",
        "from sklearn.feature_extraction.text import TfidfVectorizer\n",
        "\n",
        "from nltk.stem.porter import PorterStemmer\n",
        "from wordcloud import WordCloud, STOPWORDS, ImageColorGenerator\n",
        "\n",
        "nltk.download('stopwords')"
      ]
    },
    {
      "cell_type": "code",
      "execution_count": null,
      "metadata": {
        "cell_id": "00001-047888db-3779-43b5-9be7-d73068f70b77",
        "deepnote_app_coordinates": {
          "h": 5,
          "w": 12,
          "x": 0,
          "y": 6
        },
        "deepnote_cell_height": 333,
        "deepnote_cell_type": "code",
        "deepnote_to_be_reexecuted": false,
        "execution_millis": 3988,
        "execution_start": 1647319661786,
        "source_hash": "528bd32d",
        "tags": [],
        "colab": {
          "base_uri": "https://localhost:8080/",
          "height": 356
        },
        "id": "ygLgImCV7f78",
        "outputId": "5b6d42ca-e4c0-4a44-b1fe-b3168da83391"
      },
      "outputs": [
        {
          "output_type": "error",
          "ename": "FileNotFoundError",
          "evalue": "ignored",
          "traceback": [
            "\u001b[0;31m---------------------------------------------------------------------------\u001b[0m",
            "\u001b[0;31mFileNotFoundError\u001b[0m                         Traceback (most recent call last)",
            "\u001b[0;32m<ipython-input-2-6a1205f3c49f>\u001b[0m in \u001b[0;36m<cell line: 15>\u001b[0;34m()\u001b[0m\n\u001b[1;32m     13\u001b[0m         \u001b[0;32mbreak\u001b[0m\u001b[0;34m\u001b[0m\u001b[0;34m\u001b[0m\u001b[0m\n\u001b[1;32m     14\u001b[0m   \u001b[0;32mreturn\u001b[0m \u001b[0mpd\u001b[0m\u001b[0;34m.\u001b[0m\u001b[0mDataFrame\u001b[0m\u001b[0;34m.\u001b[0m\u001b[0mfrom_dict\u001b[0m\u001b[0;34m(\u001b[0m\u001b[0mdf\u001b[0m\u001b[0;34m,\u001b[0m \u001b[0morient\u001b[0m\u001b[0;34m=\u001b[0m\u001b[0;34m'index'\u001b[0m\u001b[0;34m)\u001b[0m\u001b[0;34m\u001b[0m\u001b[0;34m\u001b[0m\u001b[0m\n\u001b[0;32m---> 15\u001b[0;31m \u001b[0mdf\u001b[0m \u001b[0;34m=\u001b[0m \u001b[0mgetDF\u001b[0m\u001b[0;34m(\u001b[0m\u001b[0;34m'reviews_Clothing_Shoes_and_Jewelry_5.json.gz'\u001b[0m\u001b[0;34m)\u001b[0m\u001b[0;34m\u001b[0m\u001b[0;34m\u001b[0m\u001b[0m\n\u001b[0m",
            "\u001b[0;32m<ipython-input-2-6a1205f3c49f>\u001b[0m in \u001b[0;36mgetDF\u001b[0;34m(path)\u001b[0m\n\u001b[1;32m      7\u001b[0m   \u001b[0mi\u001b[0m \u001b[0;34m=\u001b[0m \u001b[0;36m0\u001b[0m\u001b[0;34m\u001b[0m\u001b[0;34m\u001b[0m\u001b[0m\n\u001b[1;32m      8\u001b[0m   \u001b[0mdf\u001b[0m \u001b[0;34m=\u001b[0m \u001b[0;34m{\u001b[0m\u001b[0;34m}\u001b[0m\u001b[0;34m\u001b[0m\u001b[0;34m\u001b[0m\u001b[0m\n\u001b[0;32m----> 9\u001b[0;31m   \u001b[0;32mfor\u001b[0m \u001b[0md\u001b[0m \u001b[0;32min\u001b[0m \u001b[0mparse\u001b[0m\u001b[0;34m(\u001b[0m\u001b[0mpath\u001b[0m\u001b[0;34m)\u001b[0m\u001b[0;34m:\u001b[0m\u001b[0;34m\u001b[0m\u001b[0;34m\u001b[0m\u001b[0m\n\u001b[0m\u001b[1;32m     10\u001b[0m     \u001b[0mdf\u001b[0m\u001b[0;34m[\u001b[0m\u001b[0mi\u001b[0m\u001b[0;34m]\u001b[0m \u001b[0;34m=\u001b[0m \u001b[0md\u001b[0m\u001b[0;34m\u001b[0m\u001b[0;34m\u001b[0m\u001b[0m\n\u001b[1;32m     11\u001b[0m     \u001b[0mi\u001b[0m \u001b[0;34m+=\u001b[0m \u001b[0;36m1\u001b[0m\u001b[0;34m\u001b[0m\u001b[0;34m\u001b[0m\u001b[0m\n",
            "\u001b[0;32m<ipython-input-2-6a1205f3c49f>\u001b[0m in \u001b[0;36mparse\u001b[0;34m(path)\u001b[0m\n\u001b[1;32m      1\u001b[0m \u001b[0;32mdef\u001b[0m \u001b[0mparse\u001b[0m\u001b[0;34m(\u001b[0m\u001b[0mpath\u001b[0m\u001b[0;34m)\u001b[0m\u001b[0;34m:\u001b[0m\u001b[0;34m\u001b[0m\u001b[0;34m\u001b[0m\u001b[0m\n\u001b[0;32m----> 2\u001b[0;31m  \u001b[0mg\u001b[0m \u001b[0;34m=\u001b[0m \u001b[0mgzip\u001b[0m\u001b[0;34m.\u001b[0m\u001b[0mopen\u001b[0m\u001b[0;34m(\u001b[0m\u001b[0mpath\u001b[0m\u001b[0;34m,\u001b[0m \u001b[0;34m'rb'\u001b[0m\u001b[0;34m)\u001b[0m\u001b[0;34m\u001b[0m\u001b[0;34m\u001b[0m\u001b[0m\n\u001b[0m\u001b[1;32m      3\u001b[0m  \u001b[0;32mfor\u001b[0m \u001b[0ml\u001b[0m \u001b[0;32min\u001b[0m \u001b[0mg\u001b[0m\u001b[0;34m:\u001b[0m\u001b[0;34m\u001b[0m\u001b[0;34m\u001b[0m\u001b[0m\n\u001b[1;32m      4\u001b[0m    \u001b[0;32myield\u001b[0m \u001b[0meval\u001b[0m\u001b[0;34m(\u001b[0m\u001b[0ml\u001b[0m\u001b[0;34m)\u001b[0m\u001b[0;34m\u001b[0m\u001b[0;34m\u001b[0m\u001b[0m\n\u001b[1;32m      5\u001b[0m \u001b[0;34m\u001b[0m\u001b[0m\n",
            "\u001b[0;32m/usr/lib/python3.10/gzip.py\u001b[0m in \u001b[0;36mopen\u001b[0;34m(filename, mode, compresslevel, encoding, errors, newline)\u001b[0m\n\u001b[1;32m     56\u001b[0m     \u001b[0mgz_mode\u001b[0m \u001b[0;34m=\u001b[0m \u001b[0mmode\u001b[0m\u001b[0;34m.\u001b[0m\u001b[0mreplace\u001b[0m\u001b[0;34m(\u001b[0m\u001b[0;34m\"t\"\u001b[0m\u001b[0;34m,\u001b[0m \u001b[0;34m\"\"\u001b[0m\u001b[0;34m)\u001b[0m\u001b[0;34m\u001b[0m\u001b[0;34m\u001b[0m\u001b[0m\n\u001b[1;32m     57\u001b[0m     \u001b[0;32mif\u001b[0m \u001b[0misinstance\u001b[0m\u001b[0;34m(\u001b[0m\u001b[0mfilename\u001b[0m\u001b[0;34m,\u001b[0m \u001b[0;34m(\u001b[0m\u001b[0mstr\u001b[0m\u001b[0;34m,\u001b[0m \u001b[0mbytes\u001b[0m\u001b[0;34m,\u001b[0m \u001b[0mos\u001b[0m\u001b[0;34m.\u001b[0m\u001b[0mPathLike\u001b[0m\u001b[0;34m)\u001b[0m\u001b[0;34m)\u001b[0m\u001b[0;34m:\u001b[0m\u001b[0;34m\u001b[0m\u001b[0;34m\u001b[0m\u001b[0m\n\u001b[0;32m---> 58\u001b[0;31m         \u001b[0mbinary_file\u001b[0m \u001b[0;34m=\u001b[0m \u001b[0mGzipFile\u001b[0m\u001b[0;34m(\u001b[0m\u001b[0mfilename\u001b[0m\u001b[0;34m,\u001b[0m \u001b[0mgz_mode\u001b[0m\u001b[0;34m,\u001b[0m \u001b[0mcompresslevel\u001b[0m\u001b[0;34m)\u001b[0m\u001b[0;34m\u001b[0m\u001b[0;34m\u001b[0m\u001b[0m\n\u001b[0m\u001b[1;32m     59\u001b[0m     \u001b[0;32melif\u001b[0m \u001b[0mhasattr\u001b[0m\u001b[0;34m(\u001b[0m\u001b[0mfilename\u001b[0m\u001b[0;34m,\u001b[0m \u001b[0;34m\"read\"\u001b[0m\u001b[0;34m)\u001b[0m \u001b[0;32mor\u001b[0m \u001b[0mhasattr\u001b[0m\u001b[0;34m(\u001b[0m\u001b[0mfilename\u001b[0m\u001b[0;34m,\u001b[0m \u001b[0;34m\"write\"\u001b[0m\u001b[0;34m)\u001b[0m\u001b[0;34m:\u001b[0m\u001b[0;34m\u001b[0m\u001b[0;34m\u001b[0m\u001b[0m\n\u001b[1;32m     60\u001b[0m         \u001b[0mbinary_file\u001b[0m \u001b[0;34m=\u001b[0m \u001b[0mGzipFile\u001b[0m\u001b[0;34m(\u001b[0m\u001b[0;32mNone\u001b[0m\u001b[0;34m,\u001b[0m \u001b[0mgz_mode\u001b[0m\u001b[0;34m,\u001b[0m \u001b[0mcompresslevel\u001b[0m\u001b[0;34m,\u001b[0m \u001b[0mfilename\u001b[0m\u001b[0;34m)\u001b[0m\u001b[0;34m\u001b[0m\u001b[0;34m\u001b[0m\u001b[0m\n",
            "\u001b[0;32m/usr/lib/python3.10/gzip.py\u001b[0m in \u001b[0;36m__init__\u001b[0;34m(self, filename, mode, compresslevel, fileobj, mtime)\u001b[0m\n\u001b[1;32m    172\u001b[0m             \u001b[0mmode\u001b[0m \u001b[0;34m+=\u001b[0m \u001b[0;34m'b'\u001b[0m\u001b[0;34m\u001b[0m\u001b[0;34m\u001b[0m\u001b[0m\n\u001b[1;32m    173\u001b[0m         \u001b[0;32mif\u001b[0m \u001b[0mfileobj\u001b[0m \u001b[0;32mis\u001b[0m \u001b[0;32mNone\u001b[0m\u001b[0;34m:\u001b[0m\u001b[0;34m\u001b[0m\u001b[0;34m\u001b[0m\u001b[0m\n\u001b[0;32m--> 174\u001b[0;31m             \u001b[0mfileobj\u001b[0m \u001b[0;34m=\u001b[0m \u001b[0mself\u001b[0m\u001b[0;34m.\u001b[0m\u001b[0mmyfileobj\u001b[0m \u001b[0;34m=\u001b[0m \u001b[0mbuiltins\u001b[0m\u001b[0;34m.\u001b[0m\u001b[0mopen\u001b[0m\u001b[0;34m(\u001b[0m\u001b[0mfilename\u001b[0m\u001b[0;34m,\u001b[0m \u001b[0mmode\u001b[0m \u001b[0;32mor\u001b[0m \u001b[0;34m'rb'\u001b[0m\u001b[0;34m)\u001b[0m\u001b[0;34m\u001b[0m\u001b[0;34m\u001b[0m\u001b[0m\n\u001b[0m\u001b[1;32m    175\u001b[0m         \u001b[0;32mif\u001b[0m \u001b[0mfilename\u001b[0m \u001b[0;32mis\u001b[0m \u001b[0;32mNone\u001b[0m\u001b[0;34m:\u001b[0m\u001b[0;34m\u001b[0m\u001b[0;34m\u001b[0m\u001b[0m\n\u001b[1;32m    176\u001b[0m             \u001b[0mfilename\u001b[0m \u001b[0;34m=\u001b[0m \u001b[0mgetattr\u001b[0m\u001b[0;34m(\u001b[0m\u001b[0mfileobj\u001b[0m\u001b[0;34m,\u001b[0m \u001b[0;34m'name'\u001b[0m\u001b[0;34m,\u001b[0m \u001b[0;34m''\u001b[0m\u001b[0;34m)\u001b[0m\u001b[0;34m\u001b[0m\u001b[0;34m\u001b[0m\u001b[0m\n",
            "\u001b[0;31mFileNotFoundError\u001b[0m: [Errno 2] No such file or directory: 'reviews_Clothing_Shoes_and_Jewelry_5.json.gz'"
          ]
        }
      ],
      "source": [
        "def parse(path):\n",
        " g = gzip.open(path, 'rb')\n",
        " for l in g:\n",
        "   yield eval(l)\n",
        "\n",
        "def getDF(path):\n",
        "  i = 0\n",
        "  df = {}\n",
        "  for d in parse(path):\n",
        "    df[i] = d\n",
        "    i += 1\n",
        "    if i == 50000:\n",
        "        break\n",
        "  return pd.DataFrame.from_dict(df, orient='index')\n",
        "df = getDF('reviews_Clothing_Shoes_and_Jewelry_5.json.gz')"
      ]
    },
    {
      "cell_type": "code",
      "execution_count": null,
      "metadata": {
        "cell_id": "00002-d71b02c3-7ea3-450b-a04b-1b8fad50cb1e",
        "deepnote_app_coordinates": {
          "h": 5,
          "w": 12,
          "x": 0,
          "y": 12
        },
        "deepnote_cell_height": 208.375,
        "deepnote_cell_type": "code",
        "deepnote_table_loading": false,
        "deepnote_table_state": {
          "filters": [],
          "pageIndex": 0,
          "pageSize": 10,
          "sortBy": []
        },
        "deepnote_to_be_reexecuted": false,
        "execution_millis": 57,
        "execution_start": 1647319665801,
        "source_hash": "513d85e4",
        "tags": [],
        "id": "gCQSys417f79"
      },
      "outputs": [],
      "source": [
        "test_df = df[['asin', 'reviewText', 'overall', 'summary', 'reviewTime']][:50000]\n",
        "test_df1 = test_df.copy()\n",
        "test_df1[\"reviewText\"] = test_df[\"summary\"] + ' ' + test_df[\"reviewText\"]\n",
        "test_df1 = test_df1.drop(\"summary\", 1)\n"
      ]
    },
    {
      "cell_type": "code",
      "execution_count": null,
      "metadata": {
        "cell_id": "00003-05aca839-06f1-4ef9-b3e7-a1f04bf835af",
        "deepnote_app_coordinates": {
          "h": 5,
          "w": 12,
          "x": 0,
          "y": 18
        },
        "deepnote_cell_height": 687,
        "deepnote_cell_type": "code",
        "deepnote_table_loading": false,
        "deepnote_table_state": {
          "filters": [],
          "pageIndex": 4999,
          "pageSize": 10,
          "sortBy": []
        },
        "deepnote_to_be_reexecuted": false,
        "execution_millis": 333,
        "execution_start": 1647319665897,
        "source_hash": "d6464f9d",
        "tags": [],
        "id": "9N8WYGZb7f7-"
      },
      "outputs": [],
      "source": [
        "test_df1[\"overall\"] = test_df1[\"overall\"].astype(str)\n",
        "test_df1[\"overall\"] = test_df1[\"overall\"].replace({\"5.0\": \"Good\", \"4.0\": \"Good\", \"3.0\": \"Neutral\", \"2.0\": \"Bad\", \"1.0\": \"Bad\"})\n",
        "test_df1[\"reviewText\"] = test_df1[\"reviewText\"].str.lower()\n",
        "test_df1\n"
      ]
    },
    {
      "cell_type": "code",
      "execution_count": null,
      "metadata": {
        "cell_id": "c67cfc10-b4d6-4ab5-9655-1c7271e38da3",
        "deepnote_app_coordinates": {
          "h": 5,
          "w": 12,
          "x": 0,
          "y": 24
        },
        "deepnote_cell_height": 585,
        "deepnote_cell_type": "code",
        "deepnote_table_invalid": false,
        "deepnote_table_loading": false,
        "deepnote_table_state": {
          "filters": [],
          "pageIndex": 23,
          "pageSize": 10,
          "sortBy": []
        },
        "deepnote_to_be_reexecuted": false,
        "execution_millis": 2356,
        "execution_start": 1647319666235,
        "source_hash": "4513bbd3",
        "tags": [],
        "id": "HTEt-CJN7f7-"
      },
      "outputs": [],
      "source": [
        "# First choice for how to deal with contractions\n",
        "\n",
        "# def contractions(s):\n",
        "#  s = re.sub(r\"won't\", \"will not\",s)\n",
        "#  s = re.sub(r'wouldn\\'t', 'would not',s)\n",
        "#  s = re.sub(r'couldn\\'t', 'could not',s)\n",
        "#  s = re.sub(r'\\'d', 'would',s)\n",
        "#  s = re.sub(r'can\\'t', 'can not',s)\n",
        "#  s = re.sub(r'ain\\'t', ' am not', s)\n",
        "#  s = re.sub(r'n\\'t', ' not', s)\n",
        "#  s = re.sub(r'\\'re', ' are', s)\n",
        "#  s = re.sub(r'\\'s', ' is', s)\n",
        "#  s = re.sub(r'\\'ll', ' will', s)\n",
        "#  s = re.sub(r'\\'t', ' not', s)\n",
        "#  s = re.sub(r'\\'ve', ' have', s)\n",
        "#  s = re.sub(r'\\'m', ' am', s)\n",
        "#  return s\n",
        "\n",
        "\n",
        "# Handling punctuation, special characters, and contractions\n",
        "\n",
        "def special(s):\n",
        " s = re.sub('\\\\\\\\', '', s)\n",
        " s = re.sub(\"\\\\'\", '', s)\n",
        " s = re.sub('[^A-Za-z0-9]+', ' ', s)\n",
        " return s\n",
        "\n",
        "\n",
        "test_df1[\"reviewText\"] = test_df1[\"reviewText\"].apply(lambda x: special(x))"
      ]
    },
    {
      "cell_type": "code",
      "execution_count": null,
      "metadata": {
        "cell_id": "00006-b1be5de2-5c54-4663-a89f-00b2fcf05f40",
        "deepnote_app_coordinates": {
          "h": 5,
          "w": 12,
          "x": 0,
          "y": 30
        },
        "deepnote_cell_height": 496.1875,
        "deepnote_cell_type": "code",
        "deepnote_output_heights": [
          null,
          293
        ],
        "deepnote_to_be_reexecuted": false,
        "execution_millis": 827,
        "execution_start": 1647319668598,
        "source_hash": "1c616789",
        "tags": [],
        "id": "lYPo06eq7f7_"
      },
      "outputs": [],
      "source": [
        "# Getting the distribution of reviews by sentiment\n",
        "\n",
        "a = test_df1['overall'].value_counts().plot.bar()\n",
        "a.set_title(\"Distribution of User Reviews\")"
      ]
    },
    {
      "cell_type": "code",
      "execution_count": null,
      "metadata": {
        "cell_id": "7672f9c9-cbf4-4aa9-be47-2286b6b5762d",
        "deepnote_app_coordinates": {
          "h": 5,
          "w": 12,
          "x": 0,
          "y": 36
        },
        "deepnote_cell_height": 626,
        "deepnote_cell_type": "code",
        "deepnote_output_heights": [
          295
        ],
        "deepnote_to_be_reexecuted": false,
        "execution_millis": 17745,
        "execution_start": 1647319669429,
        "output_cleared": false,
        "source_hash": "78c7947b",
        "tags": [],
        "id": "MDGZRTfe7f7_"
      },
      "outputs": [],
      "source": [
        "# Getting the word cloud for all reviews\n",
        "\n",
        "text = \" \".join(review for review in test_df1['reviewText'])\n",
        "\n",
        "stopwords = set(nltk.corpus.stopwords.words('english'))\n",
        "stopwords.update([\"is, not, a, an, i, am, but, will, still, use\"])\n",
        "\n",
        "\n",
        "wordcloud = WordCloud(stopwords=stopwords, background_color=\"white\").generate(text)\n",
        "\n",
        "plt.figure(figsize = (10, 10))\n",
        "plt.imshow(wordcloud, interpolation='bilinear')\n",
        "plt.axis(\"off\")\n",
        "plt.show()"
      ]
    },
    {
      "cell_type": "code",
      "execution_count": null,
      "metadata": {
        "allow_embed": false,
        "cell_id": "00007-8fc6eb6f-0fb3-426c-8902-f27c97c22eef",
        "deepnote_app_coordinates": {
          "h": 5,
          "w": 12,
          "x": 0,
          "y": 42
        },
        "deepnote_cell_height": 554,
        "deepnote_cell_type": "code",
        "deepnote_output_heights": [
          295
        ],
        "deepnote_to_be_reexecuted": false,
        "execution_millis": 14055,
        "execution_start": 1647319687188,
        "output_cleared": false,
        "source_hash": "34a22fd5",
        "tags": [],
        "id": "TE8Tt5py7f8A"
      },
      "outputs": [],
      "source": [
        "# Getting the word cloud for good reviews\n",
        "\n",
        "good_text = \" \".join(review for review in test_df1[test_df1['overall'] == \"Good\"]['reviewText'])\n",
        "\n",
        "wordcloud = WordCloud(max_words=100, stopwords=stopwords, background_color=\"white\").generate(good_text)\n",
        "\n",
        "plt.figure(figsize = (10, 10))\n",
        "plt.imshow(wordcloud, interpolation='bilinear')\n",
        "plt.axis(\"off\")\n",
        "plt.show()"
      ]
    },
    {
      "cell_type": "code",
      "execution_count": null,
      "metadata": {
        "allow_embed": false,
        "cell_id": "00008-d1dfdb45-a991-486c-85f6-f4a2c51aa524",
        "deepnote_app_coordinates": {
          "h": 5,
          "w": 12,
          "x": 0,
          "y": 48
        },
        "deepnote_cell_height": 536,
        "deepnote_cell_type": "code",
        "deepnote_output_heights": [
          295
        ],
        "deepnote_to_be_reexecuted": false,
        "execution_millis": 2655,
        "execution_start": 1647319701246,
        "output_cleared": false,
        "source_hash": "1c3b64e4",
        "tags": [],
        "id": "PeGVSViB7f8A"
      },
      "outputs": [],
      "source": [
        "#Word cloud for bad reviews\n",
        "bad_text = \" \".join(review for review in test_df1[test_df1['overall'] == \"Bad\"]['reviewText'])\n",
        "\n",
        "wordcloud = WordCloud(max_words=100, stopwords=stopwords, background_color=\"white\").generate(bad_text)\n",
        "\n",
        "plt.figure(figsize = (10, 10))\n",
        "plt.imshow(wordcloud, interpolation='bilinear')\n",
        "plt.axis(\"off\")\n",
        "plt.show()"
      ]
    },
    {
      "cell_type": "code",
      "execution_count": null,
      "metadata": {
        "allow_embed": false,
        "cell_id": "00011-66f224ca-b756-4b5b-b8a4-8c23ac6ed9bb",
        "deepnote_app_coordinates": {
          "h": 5,
          "w": 12,
          "x": 0,
          "y": 114
        },
        "deepnote_cell_height": 536,
        "deepnote_cell_type": "code",
        "deepnote_output_heights": [
          295
        ],
        "deepnote_to_be_reexecuted": false,
        "execution_millis": 2426,
        "execution_start": 1647319703872,
        "output_cleared": false,
        "source_hash": "310f017d",
        "tags": [],
        "id": "IMHwtP2a7f8B"
      },
      "outputs": [],
      "source": [
        "#Word clouds for neutral reviews\n",
        "neutral_text = \" \".join(review for review in test_df1[test_df1['overall'] == \"Neutral\"]['reviewText'])\n",
        "\n",
        "wordcloud = WordCloud(max_words=100, stopwords=stopwords, background_color=\"white\").generate(bad_text)\n",
        "\n",
        "plt.figure(figsize = (10, 10))\n",
        "plt.imshow(wordcloud, interpolation='bilinear')\n",
        "plt.axis(\"off\")\n",
        "plt.show()"
      ]
    },
    {
      "cell_type": "code",
      "execution_count": null,
      "metadata": {
        "cell_id": "c2a5de1e-20a3-4af2-aa3f-f728cc37356f",
        "deepnote_app_coordinates": {
          "h": 5,
          "w": 12,
          "x": 0,
          "y": 102
        },
        "deepnote_cell_height": 739.1875,
        "deepnote_cell_type": "code",
        "deepnote_output_heights": [
          21.1875,
          266
        ],
        "deepnote_to_be_reexecuted": false,
        "execution_millis": 774,
        "execution_start": 1647319706302,
        "source_hash": "df79e6bd",
        "tags": [],
        "id": "w_HGizEx7f8B"
      },
      "outputs": [],
      "source": [
        "# Getting the top 10 products with the most reviews\n",
        "\n",
        "test_df1 = test_df1.replace('B000T9VK56','Unisex T shirt')\n",
        "test_df1 = test_df1.replace({'B0001ZNZJM': 'ExOfficio Men\\'s Give-N-Go Boxer Brief Single Pack'})\n",
        "test_df1 = test_df1.replace({'B00012O12A': 'Levi\\'s Men\\'s 505 Regular Fit Jeans'})\n",
        "test_df1 = test_df1.replace({'B0008EOEPK': 'Lee Men\\'s Regular Fit Straight Leg Jeans'})\n",
        "test_df1 = test_df1.replace({'B0007YR8WW': 'Playtex Womens 18 Hour Original Comfort Strap Bra'})\n",
        "test_df1 = test_df1.replace({'B0000C321X': 'Unisex Item'})\n",
        "test_df1 = test_df1.replace({'B000KEG4V0 ':'Unisex Item'})\n",
        "test_df1 = test_df1.replace({'B0007CKMA4': 'Wrangler Men Rugged Wear Relaxed Fit Jean'})\n",
        "test_df1_Bar_MostReviews = test_df1.groupby('asin').count()[\"overall\"].sort_values(ascending=False).head(10)\n",
        "\n",
        "bar_MostReviews = test_df1_Bar_MostReviews.plot.barh()\n",
        "bar_MostReviews.set_title(\"Top 10 Most Reviewed Products\")\n",
        "bar_MostReviews.set_ylabel(\"\")\n",
        "bar_MostReviews.set_ylabel(\"# of Reviews (in 1000s)\")\n",
        "bar_MostReviews.invert_yaxis()\n",
        "bar_MostReviews\n"
      ]
    },
    {
      "cell_type": "code",
      "execution_count": null,
      "metadata": {
        "cell_id": "bfc63b4e-8804-46bc-a414-a73361bd256c",
        "deepnote_app_coordinates": {
          "h": 5,
          "w": 12,
          "x": 0,
          "y": 108
        },
        "deepnote_cell_height": 809,
        "deepnote_cell_type": "code",
        "deepnote_output_heights": [
          280
        ],
        "deepnote_table_loading": false,
        "deepnote_table_state": {
          "filters": [],
          "pageIndex": 0,
          "pageSize": 10,
          "sortBy": []
        },
        "deepnote_to_be_reexecuted": false,
        "execution_millis": 939,
        "execution_start": 1647319707079,
        "source_hash": "3d947961",
        "tags": [],
        "id": "L-VOVSvr7f8B"
      },
      "outputs": [],
      "source": [
        "%matplotlib inline\n",
        "import pandas as pd\n",
        "\n",
        "# Getting the top 10 highest rated products\n",
        "\n",
        "\n",
        "test_df1 = test_df1.replace('B00011VJ7Q', 'Wigwam Hiking Outdoor F6077 Sock')\n",
        "test_df1 = test_df1.replace({'B000H92UKM': 'Allen Edmonds Men\\'s Combination Cedar Shoe Tree'})\n",
        "test_df1 = test_df1.replace({'B000B6RWJ0': 'Sterling Silver Box Chain Necklace 0.8mm Very Thin Nickel Free Italy, Sizes 7-30 inch'})\n",
        "test_df1 = test_df1.replace({'B00030B1GO': 'Kangol Men, Women Tropic 504 Ventair'})\n",
        "test_df1 = test_df1.replace({'B0007NI1QK': 'Cluster Style Swarovski Elements Crystal Handmade Sterling Silver Leverback Drop Earrings'})\n",
        "test_df1 = test_df1.replace({'B0009MZW34': 'thorlos womens Lthw Max Cushion Hiking Crew Socks'})\n",
        "test_df1 = test_df1.replace({'B000NKC7O4': 'Unisex T shirt'})\n",
        "\n",
        "#2. Create a cross tab for  the DF\n",
        "test_df1_counting = pd.crosstab(test_df1['asin'], test_df1['overall'])\n",
        "test_df2_c = test_df1_counting.assign(f = test_df1_counting['Good'] / (test_df1_counting['Bad'] + test_df1_counting['Good'] + test_df1_counting['Neutral'])).sort_values(['f', 'Good'], ascending=False).drop('f', axis = 1)\n",
        "\n",
        "\n",
        "test_df2_Bar_HighestRated = test_df2_c[0:10]\n",
        "bar_highest_rated = test_df2_Bar_HighestRated.plot.barh(legend=False)\n",
        "bar_highest_rated.set_title(\"Top 10 Highest Rated Products\")\n",
        "bar_highest_rated.set_xlabel(\"# of Good Reviews (by 1000s)\")\n",
        "bar_highest_rated.set_ylabel(\"\")\n",
        "bar_highest_rated.invert_yaxis()"
      ]
    },
    {
      "cell_type": "code",
      "execution_count": null,
      "metadata": {
        "cell_id": "00007-7bdc8ca3-c467-4223-b2b7-d6aa51db6d11",
        "deepnote_app_coordinates": {
          "h": 5,
          "w": 12,
          "x": 0,
          "y": 54
        },
        "deepnote_cell_height": 228,
        "deepnote_cell_type": "code",
        "deepnote_to_be_reexecuted": false,
        "execution_millis": 109130,
        "execution_start": 1647319708020,
        "output_cleared": false,
        "source_hash": "963a2c11",
        "tags": [],
        "id": "GQTpsJyW7f8C"
      },
      "outputs": [],
      "source": [
        "#Stemming the reviews\n",
        "ps = PorterStemmer()\n",
        "\n",
        "def stemming(review):\n",
        "     review = review.split()\n",
        "     review = [ps.stem(word) for word in review]\n",
        "     review = ' '.join(review)\n",
        "     return review\n",
        "\n",
        "test_df1[\"reviewText\"] = test_df1[\"reviewText\"].apply(lambda x: stemming(x))"
      ]
    },
    {
      "cell_type": "code",
      "execution_count": null,
      "metadata": {
        "cell_id": "810b1ee9-fad0-4577-81ba-3f6fcfb49385",
        "deepnote_app_coordinates": {
          "h": 5,
          "w": 12,
          "x": 0,
          "y": 60
        },
        "deepnote_cell_height": 54,
        "deepnote_cell_type": "visualization",
        "deepnote_to_be_reexecuted": false,
        "execution_millis": 1,
        "execution_start": 1647319817201,
        "source_hash": "b623e53d",
        "id": "QTEF70i07f8C"
      },
      "outputs": [],
      "source": []
    },
    {
      "cell_type": "code",
      "execution_count": null,
      "metadata": {
        "cell_id": "00007-cd52f07b-05e2-46b4-b856-c7b4b19bcf98",
        "deepnote_app_coordinates": {
          "h": 5,
          "w": 12,
          "x": 0,
          "y": 66
        },
        "deepnote_cell_height": 66,
        "deepnote_cell_type": "code",
        "deepnote_to_be_reexecuted": false,
        "execution_millis": 4,
        "execution_start": 1647319817202,
        "source_hash": "5049328d",
        "tags": [],
        "id": "oUUvL-Fq7f8C"
      },
      "outputs": [],
      "source": [
        "train, test = train_test_split(test_df1, test_size=0.2)"
      ]
    },
    {
      "cell_type": "code",
      "execution_count": null,
      "metadata": {
        "cell_id": "a0f6967f-c4a5-46e3-a790-1b9d5a439826",
        "deepnote_app_coordinates": {
          "h": 5,
          "w": 12,
          "x": 0,
          "y": 72
        },
        "deepnote_cell_height": 192,
        "deepnote_cell_type": "code",
        "deepnote_to_be_reexecuted": false,
        "execution_millis": 8346,
        "execution_start": 1647319817242,
        "source_hash": "afa5bf81",
        "tags": [],
        "id": "gqdrbeoD7f8C"
      },
      "outputs": [],
      "source": [
        "# Running TF-IDF on our dataset\n",
        "\n",
        "v = TfidfVectorizer(max_features=5000)\n",
        "train_x = v.fit_transform(train['reviewText'])\n",
        "\n",
        "\n",
        "df_vectorized = v.fit_transform(test_df1['reviewText'])\n",
        "y = test_df1['overall']"
      ]
    },
    {
      "cell_type": "code",
      "execution_count": null,
      "metadata": {
        "cell_id": "00008-ada5fa8f-9e23-4359-bd74-ff7f4688db36",
        "deepnote_app_coordinates": {
          "h": 5,
          "w": 12,
          "x": 0,
          "y": 78
        },
        "deepnote_cell_height": 102,
        "deepnote_cell_type": "code",
        "deepnote_to_be_reexecuted": false,
        "execution_millis": 965,
        "execution_start": 1647319825591,
        "source_hash": "eaa91bf1",
        "tags": [],
        "id": "Qm0ElWOI7f8C"
      },
      "outputs": [],
      "source": [
        "# Testing set (transform)\n",
        "test_x = v.transform(test['reviewText'])\n"
      ]
    },
    {
      "cell_type": "code",
      "execution_count": null,
      "metadata": {
        "cell_id": "dc95770b-98b2-43dd-a29b-9fbacebf0c98",
        "deepnote_app_coordinates": {
          "h": 5,
          "w": 12,
          "x": 0,
          "y": 84
        },
        "deepnote_cell_height": 264,
        "deepnote_cell_type": "code",
        "deepnote_to_be_reexecuted": false,
        "execution_millis": 302783,
        "execution_start": 1647319826563,
        "output_cleared": true,
        "source_hash": "d1132096",
        "tags": [],
        "id": "IbzTTQIb7f8C"
      },
      "outputs": [],
      "source": [
        "# Running 5-fold cross validation and getting the best k\n",
        "max_accuracy = 0\n",
        "best_k = -1\n",
        "for i in range(1, test_df1.size):\n",
        "    neigh = KNeighborsClassifier(n_neighbors=i, weights='distance')\n",
        "    neigh.fit(train_x, train['overall'])\n",
        "    if (cross_val_score(neigh, test_x, test['overall']).mean() > max_accuracy):\n",
        "        max_accuracy = cross_val_score(neigh, test_x, test['overall']).mean()\n",
        "        best_k = i"
      ]
    },
    {
      "cell_type": "code",
      "execution_count": null,
      "metadata": {
        "cell_id": "b7998d73-8b0d-417b-9650-f497ba2f04b0",
        "deepnote_app_coordinates": {
          "h": 5,
          "w": 12,
          "x": 0,
          "y": 90
        },
        "deepnote_cell_height": 102,
        "deepnote_cell_type": "code",
        "deepnote_to_be_reexecuted": false,
        "execution_millis": 16218,
        "execution_start": 1647320131523,
        "source_hash": "e67c03b0",
        "tags": [],
        "id": "tcBM-Lxg7f8C"
      },
      "outputs": [],
      "source": [
        "neigh = KNeighborsClassifier(n_neighbors=best_k, weights='distance')\n",
        "neigh.fit(train_x, train['overall'])\n",
        "predicted = neigh.predict(test_x)"
      ]
    },
    {
      "cell_type": "code",
      "execution_count": null,
      "metadata": {
        "cell_id": "1fdc3bec-7943-4e59-a1be-7d33b2ea82bd",
        "deepnote_app_coordinates": {
          "h": 5,
          "w": 12,
          "x": 0,
          "y": 96
        },
        "deepnote_cell_height": 300,
        "deepnote_cell_type": "code",
        "deepnote_output_heights": [
          280
        ],
        "deepnote_to_be_reexecuted": false,
        "execution_millis": 723,
        "execution_start": 1647320147751,
        "source_hash": "67c3b6fd",
        "tags": [],
        "id": "wnoRixTo7f8C"
      },
      "outputs": [],
      "source": [
        "# Confusion matrix with test set\n",
        "results = confusion_matrix(predicted, test['overall'], labels=[\"Bad\", \"Neutral\", \"Good\"])\n",
        "\n",
        "ax = sns.heatmap(results, annot=True, cmap=\"Blues\", fmt = '4d')\n",
        "ax.set_title(\"Confusion Matrix\")\n",
        "ax.set_xlabel(\"Predicted Values\")\n",
        "ax.set_ylabel(\"True Values\")\n",
        "\n",
        "ax.xaxis.set_ticklabels(['Bad','Neutral', 'Good'])\n",
        "ax.yaxis.set_ticklabels(['Bad','Neutral', 'Good'])\n",
        "\n",
        "sns.set(rc={'figure.figsize':(8,6.5)})\n",
        "# plt.figure(figsize=(100,100))\n",
        "# plt.show()"
      ]
    }
  ],
  "metadata": {
    "deepnote": {
      "is_reactive": false
    },
    "deepnote_app_layout": "article",
    "deepnote_execution_queue": [],
    "deepnote_notebook_id": "fba46551-2a4b-4a69-a403-0bf96000d16c",
    "kernelspec": {
      "display_name": "Python 3 (ipykernel)",
      "language": "python",
      "name": "python3"
    },
    "language_info": {
      "codemirror_mode": {
        "name": "ipython",
        "version": 3
      },
      "file_extension": ".py",
      "mimetype": "text/x-python",
      "name": "python",
      "nbconvert_exporter": "python",
      "pygments_lexer": "ipython3",
      "version": "3.9.7"
    },
    "colab": {
      "provenance": [],
      "include_colab_link": true
    }
  },
  "nbformat": 4,
  "nbformat_minor": 0
}